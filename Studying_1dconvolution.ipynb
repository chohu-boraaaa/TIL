{
 "cells": [
  {
   "cell_type": "code",
   "execution_count": 1,
   "id": "c2cbcef8",
   "metadata": {},
   "outputs": [],
   "source": [
    "import numpy as np\n",
    "import pandas as pd\n",
    "import tensorflow as tf\n",
    "import matplotlib.pyplot as plt\n",
    "import matplotlib as mpl"
   ]
  },
  {
   "cell_type": "code",
   "execution_count": 3,
   "id": "c2b8e607",
   "metadata": {},
   "outputs": [],
   "source": [
    "# 그림의 폰트 사이즈 설정\n",
    "label_size = 14\n",
    "mpl.rcParams['xtick.labelsize'] = label_size \n",
    "mpl.rcParams['ytick.labelsize'] = label_size"
   ]
  },
  {
   "cell_type": "code",
   "execution_count": 12,
   "id": "0a9d6932",
   "metadata": {},
   "outputs": [],
   "source": [
    "# input data\n",
    "data = np.array([0,0,3,4,5,0])"
   ]
  },
  {
   "cell_type": "code",
   "execution_count": 13,
   "id": "90e8060f",
   "metadata": {},
   "outputs": [],
   "source": [
    "# filter\n",
    "conv1d_filter = np.array([1,2,3])"
   ]
  },
  {
   "cell_type": "code",
   "execution_count": 10,
   "id": "402db5c4",
   "metadata": {},
   "outputs": [],
   "source": [
    "def Conv1D_Numpy(Seq, Kernel):\n",
    "    kernel_size = len(Kernel)\n",
    "    Length = len(Seq)\n",
    "    \n",
    "    output = []\n",
    "    for i in range(Length-kernel_size+1):\n",
    "        conv = np.dot(Seq[i:i+kernel_size], Kernel)\n",
    "        print(Seq[i:i+kernel_size], '*', Kernel, '->', conv)\n",
    "        \n",
    "        output.append(conv)\n",
    "    \n",
    "    output = np.array(output)\n",
    "    \n",
    "    return output"
   ]
  },
  {
   "cell_type": "code",
   "execution_count": 14,
   "id": "e964b320",
   "metadata": {},
   "outputs": [
    {
     "name": "stdout",
     "output_type": "stream",
     "text": [
      "[0 0 3] * [1 2 3] -> 9\n",
      "[0 3 4] * [1 2 3] -> 18\n",
      "[3 4 5] * [1 2 3] -> 26\n",
      "[4 5 0] * [1 2 3] -> 14\n"
     ]
    },
    {
     "data": {
      "text/plain": [
       "array([ 9, 18, 26, 14])"
      ]
     },
     "execution_count": 14,
     "metadata": {},
     "output_type": "execute_result"
    }
   ],
   "source": [
    "output = Conv1D_Numpy(data, conv1d_filter)\n",
    "output"
   ]
  }
 ],
 "metadata": {
  "kernelspec": {
   "display_name": "Python 3 (ipykernel)",
   "language": "python",
   "name": "python3"
  },
  "language_info": {
   "codemirror_mode": {
    "name": "ipython",
    "version": 3
   },
   "file_extension": ".py",
   "mimetype": "text/x-python",
   "name": "python",
   "nbconvert_exporter": "python",
   "pygments_lexer": "ipython3",
   "version": "3.7.13"
  }
 },
 "nbformat": 4,
 "nbformat_minor": 5
}
